{
 "cells": [
  {
   "cell_type": "markdown",
   "id": "c617d6a2-dfce-4d23-a41b-397a081c3206",
   "metadata": {},
   "source": [
    "<h1> Projecy : United Kingdom Road Accident Data Analsis</h2>\n",
    "<h3> Inclusive Years : 2019 - 2022</h3>\n",
    "\n",
    "\n",
    "<h3> Analyst: Cedrix Ian Nocum</h3>"
   ]
  },
  {
   "cell_type": "markdown",
   "id": "957c9667-5473-4054-8d29-7fae0bec84c3",
   "metadata": {},
   "source": [
    "<h2> Data Preparation </h2>"
   ]
  },
  {
   "cell_type": "code",
   "execution_count": 1,
   "id": "5eabedf8-e97b-4186-80f6-5d89bdd214bd",
   "metadata": {},
   "outputs": [],
   "source": [
    "import pandas as pd\n",
    "import seaborn as sns\n",
    "import matplotlib.pyplot as plt\n",
    "import numpy as np\n",
    "from scipy.stats import f_oneway\n",
    "import warnings\n",
    "warnings.filterwarnings('ignore')\n",
    "\n"
   ]
  },
  {
   "cell_type": "code",
   "execution_count": 2,
   "id": "53bbc543-cc23-48c6-9d24-305ea31a00c6",
   "metadata": {},
   "outputs": [],
   "source": [
    "accident = pd.read_csv('dataset\\\\accident_data.csv')"
   ]
  },
  {
   "cell_type": "code",
   "execution_count": 3,
   "id": "f21569c3-5d01-40fe-8a78-2060ae3099c4",
   "metadata": {},
   "outputs": [
    {
     "data": {
      "text/html": [
       "<div>\n",
       "<style scoped>\n",
       "    .dataframe tbody tr th:only-of-type {\n",
       "        vertical-align: middle;\n",
       "    }\n",
       "\n",
       "    .dataframe tbody tr th {\n",
       "        vertical-align: top;\n",
       "    }\n",
       "\n",
       "    .dataframe thead th {\n",
       "        text-align: right;\n",
       "    }\n",
       "</style>\n",
       "<table border=\"1\" class=\"dataframe\">\n",
       "  <thead>\n",
       "    <tr style=\"text-align: right;\">\n",
       "      <th></th>\n",
       "      <th>count</th>\n",
       "      <th>mean</th>\n",
       "      <th>std</th>\n",
       "      <th>min</th>\n",
       "      <th>25%</th>\n",
       "      <th>50%</th>\n",
       "      <th>75%</th>\n",
       "      <th>max</th>\n",
       "    </tr>\n",
       "  </thead>\n",
       "  <tbody>\n",
       "    <tr>\n",
       "      <th>Latitude</th>\n",
       "      <td>660654.0</td>\n",
       "      <td>52.553866</td>\n",
       "      <td>1.406922</td>\n",
       "      <td>49.914430</td>\n",
       "      <td>51.490690</td>\n",
       "      <td>52.315641</td>\n",
       "      <td>53.453452</td>\n",
       "      <td>60.757544</td>\n",
       "    </tr>\n",
       "    <tr>\n",
       "      <th>Longitude</th>\n",
       "      <td>660653.0</td>\n",
       "      <td>-1.431210</td>\n",
       "      <td>1.383330</td>\n",
       "      <td>-7.516225</td>\n",
       "      <td>-2.332291</td>\n",
       "      <td>-1.411667</td>\n",
       "      <td>-0.232869</td>\n",
       "      <td>1.762010</td>\n",
       "    </tr>\n",
       "    <tr>\n",
       "      <th>Number_of_Casualties</th>\n",
       "      <td>660679.0</td>\n",
       "      <td>1.357040</td>\n",
       "      <td>0.824847</td>\n",
       "      <td>1.000000</td>\n",
       "      <td>1.000000</td>\n",
       "      <td>1.000000</td>\n",
       "      <td>1.000000</td>\n",
       "      <td>68.000000</td>\n",
       "    </tr>\n",
       "    <tr>\n",
       "      <th>Number_of_Vehicles</th>\n",
       "      <td>660679.0</td>\n",
       "      <td>1.831255</td>\n",
       "      <td>0.715269</td>\n",
       "      <td>1.000000</td>\n",
       "      <td>1.000000</td>\n",
       "      <td>2.000000</td>\n",
       "      <td>2.000000</td>\n",
       "      <td>32.000000</td>\n",
       "    </tr>\n",
       "  </tbody>\n",
       "</table>\n",
       "</div>"
      ],
      "text/plain": [
       "                         count       mean       std        min        25%  \\\n",
       "Latitude              660654.0  52.553866  1.406922  49.914430  51.490690   \n",
       "Longitude             660653.0  -1.431210  1.383330  -7.516225  -2.332291   \n",
       "Number_of_Casualties  660679.0   1.357040  0.824847   1.000000   1.000000   \n",
       "Number_of_Vehicles    660679.0   1.831255  0.715269   1.000000   1.000000   \n",
       "\n",
       "                            50%        75%        max  \n",
       "Latitude              52.315641  53.453452  60.757544  \n",
       "Longitude             -1.411667  -0.232869   1.762010  \n",
       "Number_of_Casualties   1.000000   1.000000  68.000000  \n",
       "Number_of_Vehicles     2.000000   2.000000  32.000000  "
      ]
     },
     "execution_count": 3,
     "metadata": {},
     "output_type": "execute_result"
    }
   ],
   "source": [
    "accident.describe().T"
   ]
  },
  {
   "cell_type": "code",
   "execution_count": 4,
   "id": "23ecf5c8-897f-4917-840f-9f792705aeb0",
   "metadata": {},
   "outputs": [
    {
     "name": "stdout",
     "output_type": "stream",
     "text": [
      "<class 'pandas.core.frame.DataFrame'>\n",
      "RangeIndex: 660679 entries, 0 to 660678\n",
      "Data columns (total 14 columns):\n",
      " #   Column                   Non-Null Count   Dtype  \n",
      "---  ------                   --------------   -----  \n",
      " 0   Index                    660679 non-null  object \n",
      " 1   Accident_Severity        660679 non-null  object \n",
      " 2   Accident Date            660679 non-null  object \n",
      " 3   Latitude                 660654 non-null  float64\n",
      " 4   Light_Conditions         660679 non-null  object \n",
      " 5   District Area            660679 non-null  object \n",
      " 6   Longitude                660653 non-null  float64\n",
      " 7   Number_of_Casualties     660679 non-null  int64  \n",
      " 8   Number_of_Vehicles       660679 non-null  int64  \n",
      " 9   Road_Surface_Conditions  659953 non-null  object \n",
      " 10  Road_Type                656159 non-null  object \n",
      " 11  Urban_or_Rural_Area      660664 non-null  object \n",
      " 12  Weather_Conditions       646551 non-null  object \n",
      " 13  Vehicle_Type             660679 non-null  object \n",
      "dtypes: float64(2), int64(2), object(10)\n",
      "memory usage: 70.6+ MB\n"
     ]
    }
   ],
   "source": [
    "accident.info()"
   ]
  },
  {
   "cell_type": "code",
   "execution_count": 5,
   "id": "dc6573fc-14d8-45cc-9414-1a50ff746bba",
   "metadata": {},
   "outputs": [
    {
     "data": {
      "text/plain": [
       "Index                       object\n",
       "Accident_Severity           object\n",
       "Accident Date               object\n",
       "Latitude                   float64\n",
       "Light_Conditions            object\n",
       "District Area               object\n",
       "Longitude                  float64\n",
       "Number_of_Casualties         int64\n",
       "Number_of_Vehicles           int64\n",
       "Road_Surface_Conditions     object\n",
       "Road_Type                   object\n",
       "Urban_or_Rural_Area         object\n",
       "Weather_Conditions          object\n",
       "Vehicle_Type                object\n",
       "dtype: object"
      ]
     },
     "execution_count": 5,
     "metadata": {},
     "output_type": "execute_result"
    }
   ],
   "source": [
    "accident.dtypes"
   ]
  },
  {
   "cell_type": "markdown",
   "id": "9e5bcbc4-8fd3-4b48-93b2-798b48e8f74f",
   "metadata": {},
   "source": [
    "accident.describe()"
   ]
  },
  {
   "cell_type": "code",
   "execution_count": 6,
   "id": "ae621c4d-e60c-4d20-b6dc-c88f3c008f1f",
   "metadata": {},
   "outputs": [],
   "source": [
    "accident['Accident_Severity'] = accident['Accident_Severity'].astype('category')"
   ]
  },
  {
   "cell_type": "code",
   "execution_count": 7,
   "id": "4f5ee758-44b4-4bc5-836c-a38f70ab8ad2",
   "metadata": {},
   "outputs": [
    {
     "data": {
      "text/plain": [
       "Accident_Severity\n",
       "Slight     563801\n",
       "Serious     88217\n",
       "Fatal        8661\n",
       "Name: count, dtype: int64"
      ]
     },
     "execution_count": 7,
     "metadata": {},
     "output_type": "execute_result"
    }
   ],
   "source": [
    "accident['Accident_Severity'].value_counts()"
   ]
  },
  {
   "cell_type": "code",
   "execution_count": 8,
   "id": "5ec101f4-efc7-4b19-9d97-41f70761b88d",
   "metadata": {},
   "outputs": [
    {
     "data": {
      "text/plain": [
       "Index                        object\n",
       "Accident_Severity          category\n",
       "Accident Date                object\n",
       "Latitude                    float64\n",
       "Light_Conditions             object\n",
       "District Area                object\n",
       "Longitude                   float64\n",
       "Number_of_Casualties          int64\n",
       "Number_of_Vehicles            int64\n",
       "Road_Surface_Conditions      object\n",
       "Road_Type                    object\n",
       "Urban_or_Rural_Area          object\n",
       "Weather_Conditions           object\n",
       "Vehicle_Type                 object\n",
       "dtype: object"
      ]
     },
     "execution_count": 8,
     "metadata": {},
     "output_type": "execute_result"
    }
   ],
   "source": [
    "accident.dtypes"
   ]
  },
  {
   "cell_type": "markdown",
   "id": "298ec753-8d7a-4d10-b44d-d8e5ea351ac4",
   "metadata": {},
   "source": [
    "<h3> Converting Object to  Date Time Data type </h3>"
   ]
  },
  {
   "cell_type": "code",
   "execution_count": 9,
   "id": "44f289d0-fffa-40d7-8048-6cdcffd50df6",
   "metadata": {},
   "outputs": [],
   "source": [
    "accident['Accident Date'] = pd.to_datetime(accident['Accident Date'], dayfirst = True, errors = 'coerce')"
   ]
  },
  {
   "cell_type": "code",
   "execution_count": 10,
   "id": "ae590878-6c82-40a4-be83-3b828e515634",
   "metadata": {},
   "outputs": [
    {
     "data": {
      "text/plain": [
       "Index                              object\n",
       "Accident_Severity                category\n",
       "Accident Date              datetime64[ns]\n",
       "Latitude                          float64\n",
       "Light_Conditions                   object\n",
       "District Area                      object\n",
       "Longitude                         float64\n",
       "Number_of_Casualties                int64\n",
       "Number_of_Vehicles                  int64\n",
       "Road_Surface_Conditions            object\n",
       "Road_Type                          object\n",
       "Urban_or_Rural_Area                object\n",
       "Weather_Conditions                 object\n",
       "Vehicle_Type                       object\n",
       "dtype: object"
      ]
     },
     "execution_count": 10,
     "metadata": {},
     "output_type": "execute_result"
    }
   ],
   "source": [
    "accident.dtypes"
   ]
  },
  {
   "cell_type": "markdown",
   "id": "d3657037-04e4-415d-a874-5735de49c50d",
   "metadata": {},
   "source": [
    "<h1> Filling up Missing values in the data frame </h1>"
   ]
  },
  {
   "cell_type": "code",
   "execution_count": 11,
   "id": "abb3e17a-c9ec-4146-bde6-acf05bf9435f",
   "metadata": {},
   "outputs": [
    {
     "data": {
      "text/plain": [
       "Index                          0\n",
       "Accident_Severity              0\n",
       "Accident Date                  0\n",
       "Latitude                      25\n",
       "Light_Conditions               0\n",
       "District Area                  0\n",
       "Longitude                     26\n",
       "Number_of_Casualties           0\n",
       "Number_of_Vehicles             0\n",
       "Road_Surface_Conditions      726\n",
       "Road_Type                   4520\n",
       "Urban_or_Rural_Area           15\n",
       "Weather_Conditions         14128\n",
       "Vehicle_Type                   0\n",
       "dtype: int64"
      ]
     },
     "execution_count": 11,
     "metadata": {},
     "output_type": "execute_result"
    }
   ],
   "source": [
    "accident.isnull().sum()"
   ]
  },
  {
   "cell_type": "code",
   "execution_count": 12,
   "id": "ccf4220b-9fd5-42c4-a8c0-89d63cc6d26c",
   "metadata": {},
   "outputs": [],
   "source": [
    "accident['Latitude'] = accident['Latitude'].fillna(accident['Latitude'].mode()[0])\n",
    "accident['Longitude'] = accident['Longitude'].fillna(accident['Longitude'].mode()[0])\n",
    "accident['Road_Surface_Conditions'] = accident['Road_Surface_Conditions'].fillna('unknown surface conditon')\n",
    "accident['Road_Type'] = accident['Road_Type'].fillna('unaccounted')\n",
    "accident['Urban_or_Rural_Area'] = accident['Urban_or_Rural_Area'].fillna(accident['Urban_or_Rural_Area'].mode()[0])\n",
    "accident['Weather_Conditions'] = accident['Weather_Conditions'].fillna('unaccounted weather conditions')"
   ]
  },
  {
   "cell_type": "code",
   "execution_count": 13,
   "id": "25dd8d58-fb8c-4a0f-b71c-7ffab3ebf25d",
   "metadata": {},
   "outputs": [
    {
     "data": {
      "text/plain": [
       "Index                      0\n",
       "Accident_Severity          0\n",
       "Accident Date              0\n",
       "Latitude                   0\n",
       "Light_Conditions           0\n",
       "District Area              0\n",
       "Longitude                  0\n",
       "Number_of_Casualties       0\n",
       "Number_of_Vehicles         0\n",
       "Road_Surface_Conditions    0\n",
       "Road_Type                  0\n",
       "Urban_or_Rural_Area        0\n",
       "Weather_Conditions         0\n",
       "Vehicle_Type               0\n",
       "dtype: int64"
      ]
     },
     "execution_count": 13,
     "metadata": {},
     "output_type": "execute_result"
    }
   ],
   "source": [
    "accident.isnull().sum()"
   ]
  },
  {
   "cell_type": "markdown",
   "id": "d259b071-074e-48f6-a087-0a0481fa3b49",
   "metadata": {},
   "source": [
    "<h1> Categorical Data Fields </h1>"
   ]
  },
  {
   "cell_type": "code",
   "execution_count": 14,
   "id": "a8f9e747-0f6c-4e0b-8c27-38d8f0c34ea2",
   "metadata": {},
   "outputs": [],
   "source": [
    "accident['Accident_Severity'] = accident['Accident_Severity'].astype('category')\n",
    "accident['Latitude'] = accident['Latitude'].astype('category')\n",
    "accident['Light_Conditions'] = accident['Light_Conditions'].astype('category')\n",
    "accident['District Area'] = accident['District Area'].astype('category')\n",
    "accident['Longitude'] = accident['Longitude'].astype('category')\n",
    "accident['Road_Surface_Conditions'] = accident['Road_Surface_Conditions'].astype('category')\n",
    "accident['Road_Type'] = accident['Road_Type'].astype('category')\n",
    "accident['Urban_or_Rural_Area'] = accident['Urban_or_Rural_Area'].astype('category')\n",
    "accident['Weather_Conditions'] = accident['Weather_Conditions'].astype('category')\n",
    "accident['Vehicle_Type'] = accident['Vehicle_Type'].astype('category')\n",
    "\n",
    "\n"
   ]
  },
  {
   "cell_type": "code",
   "execution_count": 15,
   "id": "256469e8-1dcc-4492-82ab-4ea9911e081b",
   "metadata": {},
   "outputs": [
    {
     "data": {
      "text/plain": [
       "Index                              object\n",
       "Accident_Severity                category\n",
       "Accident Date              datetime64[ns]\n",
       "Latitude                         category\n",
       "Light_Conditions                 category\n",
       "District Area                    category\n",
       "Longitude                        category\n",
       "Number_of_Casualties                int64\n",
       "Number_of_Vehicles                  int64\n",
       "Road_Surface_Conditions          category\n",
       "Road_Type                        category\n",
       "Urban_or_Rural_Area              category\n",
       "Weather_Conditions               category\n",
       "Vehicle_Type                     category\n",
       "dtype: object"
      ]
     },
     "execution_count": 15,
     "metadata": {},
     "output_type": "execute_result"
    }
   ],
   "source": [
    "accident.dtypes"
   ]
  },
  {
   "cell_type": "markdown",
   "id": "a131b3fe-9ee5-45b6-b94a-873dcdb4b4f5",
   "metadata": {},
   "source": [
    "<h1> Extracting date information using pandas date time </h1>"
   ]
  },
  {
   "cell_type": "code",
   "execution_count": 16,
   "id": "58a5b782-a2db-4897-ac62-6297f011d2e9",
   "metadata": {},
   "outputs": [],
   "source": [
    "accident['year'] = accident['Accident Date'].dt.year\n",
    "accident['Month'] = accident['Accident Date'].dt.month\n",
    "accident['Day'] = accident['Accident Date'].dt.day\n",
    "accident['DayOfWeek'] = accident['Accident Date'].dt.dayofweek\n"
   ]
  },
  {
   "cell_type": "markdown",
   "id": "6d66bb9f-1839-4e83-8045-02147e3834bb",
   "metadata": {},
   "source": [
    "<h1> Analyzing each Field from data set </h1>"
   ]
  },
  {
   "cell_type": "code",
   "execution_count": 17,
   "id": "30bbc22a-4b1a-42b2-8388-416d2a3f2595",
   "metadata": {},
   "outputs": [
    {
     "data": {
      "text/plain": [
       "Index                      0\n",
       "Accident_Severity          0\n",
       "Accident Date              0\n",
       "Latitude                   0\n",
       "Light_Conditions           0\n",
       "District Area              0\n",
       "Longitude                  0\n",
       "Number_of_Casualties       0\n",
       "Number_of_Vehicles         0\n",
       "Road_Surface_Conditions    0\n",
       "Road_Type                  0\n",
       "Urban_or_Rural_Area        0\n",
       "Weather_Conditions         0\n",
       "Vehicle_Type               0\n",
       "year                       0\n",
       "Month                      0\n",
       "Day                        0\n",
       "DayOfWeek                  0\n",
       "dtype: int64"
      ]
     },
     "execution_count": 17,
     "metadata": {},
     "output_type": "execute_result"
    }
   ],
   "source": [
    "accident.isnull().sum()"
   ]
  },
  {
   "cell_type": "code",
   "execution_count": 18,
   "id": "f4badbee-d669-487d-817d-66d721857b7e",
   "metadata": {},
   "outputs": [
    {
     "data": {
      "text/plain": [
       "0         Serious\n",
       "1         Serious\n",
       "2         Serious\n",
       "3         Serious\n",
       "4          Slight\n",
       "           ...   \n",
       "660674     Slight\n",
       "660675     Slight\n",
       "660676     Slight\n",
       "660677    Serious\n",
       "660678    Serious\n",
       "Name: Accident_Severity, Length: 660679, dtype: category\n",
       "Categories (3, object): ['Fatal', 'Serious', 'Slight']"
      ]
     },
     "execution_count": 18,
     "metadata": {},
     "output_type": "execute_result"
    }
   ],
   "source": [
    "accident['Accident_Severity']\n"
   ]
  },
  {
   "cell_type": "markdown",
   "id": "889bafee-ece1-49ba-a06b-cc5f011fb22a",
   "metadata": {},
   "source": [
    "<h1> UniVariate </h1>"
   ]
  },
  {
   "cell_type": "code",
   "execution_count": 19,
   "id": "48505f18-5f79-44fb-bbc6-74e01e783c04",
   "metadata": {},
   "outputs": [],
   "source": [
    "df_2019 = accident[accident['year'] == 2019]"
   ]
  },
  {
   "cell_type": "markdown",
   "id": "10d9fa18-ec79-47e4-afd4-c797de38f343",
   "metadata": {},
   "source": [
    "<h1> Univariate Analysis from year 2019 </h1>"
   ]
  },
  {
   "cell_type": "markdown",
   "id": "7051e071-fec9-4956-8066-d321fca6af36",
   "metadata": {},
   "source": [
    "<h1> Question 1 : How many incidents happened under light conditions </h1>"
   ]
  },
  {
   "cell_type": "code",
   "execution_count": 20,
   "id": "40652ef7-c457-4c81-8902-35e232828597",
   "metadata": {},
   "outputs": [
    {
     "data": {
      "text/plain": [
       "Light_Conditions\n",
       "Daylight                       133042\n",
       "Darkness - lights lit           35769\n",
       "Darkness - no lighting          10842\n",
       "Darkness - lighting unknown      1768\n",
       "Darkness - lights unlit           694\n",
       "Name: count, dtype: int64"
      ]
     },
     "execution_count": 20,
     "metadata": {},
     "output_type": "execute_result"
    }
   ],
   "source": [
    "df_2019['Light_Conditions'].value_counts()"
   ]
  },
  {
   "cell_type": "markdown",
   "id": "ff18d99b-8f69-4945-92af-50d684fafd99",
   "metadata": {},
   "source": [
    "<h1> Insight 1 </h1>\n",
    "\n",
    "<h2> Most Accidents Happen in Daylight </h2>"
   ]
  },
  {
   "cell_type": "markdown",
   "id": "8d927c80-4dd0-4e8a-bcee-2ab5dcbeadd0",
   "metadata": {},
   "source": [
    "<h1> Question 2 : Which month has the most accidents? </h1>"
   ]
  },
  {
   "cell_type": "code",
   "execution_count": 21,
   "id": "5d409277-3476-4fb8-ab9e-15b12663d241",
   "metadata": {},
   "outputs": [],
   "source": [
    "accidents_by_month = accident['Month'].value_counts()\n"
   ]
  },
  {
   "cell_type": "code",
   "execution_count": 22,
   "id": "035c4339-6233-4dbc-b55e-cab85a2524b1",
   "metadata": {},
   "outputs": [
    {
     "data": {
      "text/plain": [
       "Month\n",
       "11    60424\n",
       "10    59580\n",
       "7     57445\n",
       "6     56481\n",
       "9     56455\n",
       "5     56352\n",
       "3     54086\n",
       "8     53913\n",
       "1     52872\n",
       "12    51836\n",
       "4     51744\n",
       "2     49491\n",
       "Name: count, dtype: int64"
      ]
     },
     "execution_count": 22,
     "metadata": {},
     "output_type": "execute_result"
    }
   ],
   "source": [
    "accidents_by_month\n"
   ]
  },
  {
   "cell_type": "markdown",
   "id": "ad5d860c-e02a-46e8-b699-7524db61056e",
   "metadata": {},
   "source": [
    "<h1> Insight 2 </h1>\n",
    "\n",
    "<h2> October Has the Highest Number of Reported Accidents </h2>"
   ]
  },
  {
   "cell_type": "markdown",
   "id": "2a7cb5db-ad73-4696-975b-61445f1d1ce6",
   "metadata": {},
   "source": [
    "<h1> Question 3 : On which day of the week do most accidents happen? </h1>"
   ]
  },
  {
   "cell_type": "code",
   "execution_count": 23,
   "id": "c576b875-ee93-4709-a3f9-48d708c7d15b",
   "metadata": {},
   "outputs": [],
   "source": [
    "accidents_by_day = accident['DayOfWeek'].value_counts()\n"
   ]
  },
  {
   "cell_type": "code",
   "execution_count": 24,
   "id": "0f42065f-f86c-448f-8097-457bb67e81c3",
   "metadata": {},
   "outputs": [
    {
     "data": {
      "text/plain": [
       "DayOfWeek\n",
       "5    107178\n",
       "2     99558\n",
       "3     99511\n",
       "4     97900\n",
       "1     94550\n",
       "6     89302\n",
       "0     72680\n",
       "Name: count, dtype: int64"
      ]
     },
     "execution_count": 24,
     "metadata": {},
     "output_type": "execute_result"
    }
   ],
   "source": [
    "accidents_by_day"
   ]
  },
  {
   "cell_type": "markdown",
   "id": "24ada828-eed9-466a-a976-df75892c5683",
   "metadata": {},
   "source": [
    "<h1> Insight 3 </h1>\n",
    "\n",
    "<h2> Most Accidents happen on Friday </h2>"
   ]
  },
  {
   "cell_type": "markdown",
   "id": "43e1c405-39cc-4d10-a607-cc9d299c5f38",
   "metadata": {},
   "source": [
    "<h1> Question 4 : What is the most common accident severity? </h1>"
   ]
  },
  {
   "cell_type": "code",
   "execution_count": 25,
   "id": "ef64573e-7d94-4271-b3fc-3d2f1eed0952",
   "metadata": {},
   "outputs": [],
   "source": [
    "accident_insight4 = accident.groupby(['Accident_Severity'], observed=False).size()\n"
   ]
  },
  {
   "cell_type": "code",
   "execution_count": 26,
   "id": "7ba113d4-7f1c-412e-959a-608cf1afb42a",
   "metadata": {},
   "outputs": [
    {
     "data": {
      "text/plain": [
       "Accident_Severity\n",
       "Fatal        8661\n",
       "Serious     88217\n",
       "Slight     563801\n",
       "dtype: int64"
      ]
     },
     "execution_count": 26,
     "metadata": {},
     "output_type": "execute_result"
    }
   ],
   "source": [
    "accident_insight4\n",
    "\n"
   ]
  },
  {
   "cell_type": "markdown",
   "id": "ea0e5892-4112-4ab9-8488-e4693c217d01",
   "metadata": {},
   "source": [
    "<h1> Insight 4 </h1>\n",
    "\n",
    "<h2> Most Accidents Are Slight </h2>"
   ]
  },
  {
   "cell_type": "markdown",
   "id": "0668909a-1135-4140-9a9a-2ed6e51acb13",
   "metadata": {},
   "source": [
    "<h1> Question 5 : Are accidents more common in urban or rural areas? </h1>"
   ]
  },
  {
   "cell_type": "code",
   "execution_count": 27,
   "id": "d6829b05-66a0-4278-b6d3-fffe47929f25",
   "metadata": {},
   "outputs": [],
   "source": [
    "accident_insight5 = accident.groupby(['Urban_or_Rural_Area'], observed=False).size()\n"
   ]
  },
  {
   "cell_type": "code",
   "execution_count": 28,
   "id": "db03c9f9-72e3-48e1-a14d-a3e2901e1581",
   "metadata": {},
   "outputs": [
    {
     "data": {
      "text/plain": [
       "Urban_or_Rural_Area\n",
       "Rural          238990\n",
       "Unallocated        11\n",
       "Urban          421678\n",
       "dtype: int64"
      ]
     },
     "execution_count": 28,
     "metadata": {},
     "output_type": "execute_result"
    }
   ],
   "source": [
    "accident_insight5\n"
   ]
  },
  {
   "cell_type": "markdown",
   "id": "cad70b60-33f5-460d-8a41-3da942bb3673",
   "metadata": {},
   "source": [
    "<h1> Insight 5 </h1>\n",
    "\n",
    "<h2> Urban Areas Have More Accidents </h2>"
   ]
  },
  {
   "cell_type": "markdown",
   "id": "5c88c0fc-b874-498b-b4af-5b007b37c252",
   "metadata": {},
   "source": [
    "<h1> Question 6 : How does weather affect accidents </h1>"
   ]
  },
  {
   "cell_type": "code",
   "execution_count": 29,
   "id": "73bb8278-55f4-437c-82e1-247ab9c74ffd",
   "metadata": {},
   "outputs": [],
   "source": [
    "accident_insight6 = accident.groupby(['Weather_Conditions', 'Accident_Severity'], observed=False).size().unstack()\n"
   ]
  },
  {
   "cell_type": "code",
   "execution_count": 30,
   "id": "9eb8a880-89fd-4e95-b0c3-8feac202441a",
   "metadata": {},
   "outputs": [
    {
     "data": {
      "text/html": [
       "<div>\n",
       "<style scoped>\n",
       "    .dataframe tbody tr th:only-of-type {\n",
       "        vertical-align: middle;\n",
       "    }\n",
       "\n",
       "    .dataframe tbody tr th {\n",
       "        vertical-align: top;\n",
       "    }\n",
       "\n",
       "    .dataframe thead th {\n",
       "        text-align: right;\n",
       "    }\n",
       "</style>\n",
       "<table border=\"1\" class=\"dataframe\">\n",
       "  <thead>\n",
       "    <tr style=\"text-align: right;\">\n",
       "      <th>Accident_Severity</th>\n",
       "      <th>Fatal</th>\n",
       "      <th>Serious</th>\n",
       "      <th>Slight</th>\n",
       "    </tr>\n",
       "    <tr>\n",
       "      <th>Weather_Conditions</th>\n",
       "      <th></th>\n",
       "      <th></th>\n",
       "      <th></th>\n",
       "    </tr>\n",
       "  </thead>\n",
       "  <tbody>\n",
       "    <tr>\n",
       "      <th>Fine + high winds</th>\n",
       "      <td>175</td>\n",
       "      <td>1245</td>\n",
       "      <td>7134</td>\n",
       "    </tr>\n",
       "    <tr>\n",
       "      <th>Fine no high winds</th>\n",
       "      <td>7100</td>\n",
       "      <td>72046</td>\n",
       "      <td>441739</td>\n",
       "    </tr>\n",
       "    <tr>\n",
       "      <th>Fog or mist</th>\n",
       "      <td>82</td>\n",
       "      <td>483</td>\n",
       "      <td>2963</td>\n",
       "    </tr>\n",
       "    <tr>\n",
       "      <th>Other</th>\n",
       "      <td>165</td>\n",
       "      <td>1801</td>\n",
       "      <td>15184</td>\n",
       "    </tr>\n",
       "    <tr>\n",
       "      <th>Raining + high winds</th>\n",
       "      <td>145</td>\n",
       "      <td>1261</td>\n",
       "      <td>8209</td>\n",
       "    </tr>\n",
       "    <tr>\n",
       "      <th>Raining no high winds</th>\n",
       "      <td>848</td>\n",
       "      <td>9468</td>\n",
       "      <td>69380</td>\n",
       "    </tr>\n",
       "    <tr>\n",
       "      <th>Snowing + high winds</th>\n",
       "      <td>3</td>\n",
       "      <td>109</td>\n",
       "      <td>773</td>\n",
       "    </tr>\n",
       "    <tr>\n",
       "      <th>Snowing no high winds</th>\n",
       "      <td>36</td>\n",
       "      <td>565</td>\n",
       "      <td>5637</td>\n",
       "    </tr>\n",
       "    <tr>\n",
       "      <th>unaccounted weather conditions</th>\n",
       "      <td>107</td>\n",
       "      <td>1239</td>\n",
       "      <td>12782</td>\n",
       "    </tr>\n",
       "  </tbody>\n",
       "</table>\n",
       "</div>"
      ],
      "text/plain": [
       "Accident_Severity               Fatal  Serious  Slight\n",
       "Weather_Conditions                                    \n",
       "Fine + high winds                 175     1245    7134\n",
       "Fine no high winds               7100    72046  441739\n",
       "Fog or mist                        82      483    2963\n",
       "Other                             165     1801   15184\n",
       "Raining + high winds              145     1261    8209\n",
       "Raining no high winds             848     9468   69380\n",
       "Snowing + high winds                3      109     773\n",
       "Snowing no high winds              36      565    5637\n",
       "unaccounted weather conditions    107     1239   12782"
      ]
     },
     "execution_count": 30,
     "metadata": {},
     "output_type": "execute_result"
    }
   ],
   "source": [
    "accident_insight6"
   ]
  },
  {
   "cell_type": "markdown",
   "id": "48c1f596-ef60-4944-8d47-0a34b7308bb0",
   "metadata": {},
   "source": [
    "<h1> Insight 6 </h1>\n",
    "\n",
    "<h2>  Most Accidents Happen in Clear Weather </h2>"
   ]
  },
  {
   "cell_type": "markdown",
   "id": "6e95e78f-f551-466b-b47b-8555d5a3c496",
   "metadata": {},
   "source": [
    "<h1> Question 7 : What is the most common road surface condition during accidents? </h1>"
   ]
  },
  {
   "cell_type": "code",
   "execution_count": 31,
   "id": "5ecebac8-62d8-4da6-93fb-0e914636b22e",
   "metadata": {},
   "outputs": [],
   "source": [
    "accident_insight7 = accident.groupby(['Road_Surface_Conditions'], observed=False).size()\n"
   ]
  },
  {
   "cell_type": "code",
   "execution_count": 32,
   "id": "31b6bff8-ea70-40b9-b5f3-638c2f39e005",
   "metadata": {},
   "outputs": [
    {
     "data": {
      "text/plain": [
       "Road_Surface_Conditions\n",
       "Dry                         447821\n",
       "Flood over 3cm. deep          1017\n",
       "Frost or ice                 18517\n",
       "Snow                          5890\n",
       "Wet or damp                 186708\n",
       "unknown surface conditon       726\n",
       "dtype: int64"
      ]
     },
     "execution_count": 32,
     "metadata": {},
     "output_type": "execute_result"
    }
   ],
   "source": [
    "accident_insight7"
   ]
  },
  {
   "cell_type": "markdown",
   "id": "094f13df-e6d1-43ff-bcd4-8e43cfcc1289",
   "metadata": {},
   "source": [
    "<h1> Insight 7 </h1>\n",
    "\n",
    "<h2> Dry roads have the highest number of accidents, followed by wet or damp roads. </h2>"
   ]
  },
  {
   "cell_type": "markdown",
   "id": "ce661bd2-0b23-4ddb-9b51-4d9749d46571",
   "metadata": {},
   "source": [
    "<h1> Question 8 : How many accidents each year </h1>"
   ]
  },
  {
   "cell_type": "code",
   "execution_count": 33,
   "id": "3fa2164e-87b3-4854-bc13-19b642dd1c40",
   "metadata": {},
   "outputs": [],
   "source": [
    "accident_insight8 = accident.groupby(['year']).size()\n"
   ]
  },
  {
   "cell_type": "code",
   "execution_count": 34,
   "id": "bb1089a9-4dd8-4e57-a91c-289f3fa50d26",
   "metadata": {},
   "outputs": [
    {
     "data": {
      "text/plain": [
       "year\n",
       "2019    182115\n",
       "2020    170591\n",
       "2021    163554\n",
       "2022    144419\n",
       "dtype: int64"
      ]
     },
     "execution_count": 34,
     "metadata": {},
     "output_type": "execute_result"
    }
   ],
   "source": [
    "accident_insight8\n"
   ]
  },
  {
   "cell_type": "markdown",
   "id": "79940c59-970b-4065-ad21-a46e01ede825",
   "metadata": {},
   "source": [
    "<h1> Insight 8 </h1>\n",
    "\n",
    "<h2> 2019 has the highest accidents </h2>"
   ]
  },
  {
   "cell_type": "markdown",
   "id": "e11f8095-f5ee-47e8-884a-491ee9fd41bf",
   "metadata": {},
   "source": [
    "<h1> Question 9 : What is the most common type of road where accidents occur </h1>"
   ]
  },
  {
   "cell_type": "code",
   "execution_count": 35,
   "id": "b0fac971-c16c-4da0-9d81-b5a38585fe61",
   "metadata": {},
   "outputs": [
    {
     "data": {
      "text/plain": [
       "0         Single carriageway\n",
       "1         Single carriageway\n",
       "2                unaccounted\n",
       "3         Single carriageway\n",
       "4                unaccounted\n",
       "                 ...        \n",
       "660674    Single carriageway\n",
       "660675    Single carriageway\n",
       "660676    Single carriageway\n",
       "660677    Single carriageway\n",
       "660678      Dual carriageway\n",
       "Name: Road_Type, Length: 660679, dtype: category\n",
       "Categories (6, object): ['Dual carriageway', 'One way street', 'Roundabout', 'Single carriageway', 'Slip road', 'unaccounted']"
      ]
     },
     "execution_count": 35,
     "metadata": {},
     "output_type": "execute_result"
    }
   ],
   "source": [
    "accident['Road_Type']"
   ]
  },
  {
   "cell_type": "code",
   "execution_count": 36,
   "id": "8479b309-1ebe-4429-9168-c4a6e5fde2d6",
   "metadata": {},
   "outputs": [],
   "source": [
    "accident_insight9 = accident.groupby(['Road_Type'], observed=False).size()\n"
   ]
  },
  {
   "cell_type": "code",
   "execution_count": 37,
   "id": "b8254387-d5cd-4b0c-a7c0-185251007dea",
   "metadata": {},
   "outputs": [
    {
     "data": {
      "text/plain": [
       "Road_Type\n",
       "Dual carriageway       99424\n",
       "One way street         13559\n",
       "Roundabout             43992\n",
       "Single carriageway    492143\n",
       "Slip road               7041\n",
       "unaccounted             4520\n",
       "dtype: int64"
      ]
     },
     "execution_count": 37,
     "metadata": {},
     "output_type": "execute_result"
    }
   ],
   "source": [
    "accident_insight9"
   ]
  },
  {
   "cell_type": "markdown",
   "id": "aad01358-4d36-4dc8-b59e-3085c44b5fed",
   "metadata": {},
   "source": [
    "<h1> Insight 9 </h1>\n",
    "\n",
    "<h2> Single carriageways have the highest number of accidents, likely due to their widespread use. </h2>"
   ]
  },
  {
   "cell_type": "markdown",
   "id": "0a7f0259-d3a6-4c2d-9b20-43e38b25e899",
   "metadata": {},
   "source": [
    "<h1> Question 10 : Which vehicle types are involved in the most accidents </h1>"
   ]
  },
  {
   "cell_type": "code",
   "execution_count": 38,
   "id": "70fdb2ac-eff2-4cb3-a613-86ca3bd6ecae",
   "metadata": {},
   "outputs": [],
   "source": [
    "accident_insight10 = accident.groupby(['Vehicle_Type'], observed=False).size()\n"
   ]
  },
  {
   "cell_type": "code",
   "execution_count": 39,
   "id": "528dae97-a972-49f2-aa48-59c708c40839",
   "metadata": {},
   "outputs": [
    {
     "data": {
      "text/plain": [
       "Vehicle_Type\n",
       "Agricultural vehicle                       1947\n",
       "Bus or coach (17 or more pass seats)      25878\n",
       "Car                                      497992\n",
       "Data missing or out of range                  6\n",
       "Goods 7.5 tonnes mgw and over             17307\n",
       "Goods over 3.5t. and under 7.5t            6096\n",
       "Minibus (8 - 16 passenger seats)           1976\n",
       "Motorcycle 125cc and under                15269\n",
       "Motorcycle 50cc and under                  7603\n",
       "Motorcycle over 125cc and up to 500cc      7656\n",
       "Motorcycle over 500cc                     25657\n",
       "Other vehicle                              5637\n",
       "Pedal cycle                                 197\n",
       "Ridden horse                                  4\n",
       "Taxi/Private hire car                     13294\n",
       "Van / Goods 3.5 tonnes mgw or under       34160\n",
       "dtype: int64"
      ]
     },
     "execution_count": 39,
     "metadata": {},
     "output_type": "execute_result"
    }
   ],
   "source": [
    "accident_insight10"
   ]
  },
  {
   "cell_type": "markdown",
   "id": "435b7a9f-eabe-4d37-a0df-c310e42835df",
   "metadata": {},
   "source": [
    "<h1> Insight 10 </h1>\n",
    "\n",
    "<h2> Cars are involved in the most accidents, while motorcycles have a higher rate of serious accidents.. </h2>"
   ]
  },
  {
   "cell_type": "markdown",
   "id": "076fba2e-32dc-4bd1-9fec-415a75fa1209",
   "metadata": {},
   "source": [
    "<h1> Question 11 : What is the impact of road surface conditions on accident severity </h1>"
   ]
  },
  {
   "cell_type": "code",
   "execution_count": 40,
   "id": "ed33154c-929d-4ed0-bd60-513edbe4b600",
   "metadata": {},
   "outputs": [],
   "source": [
    "accident_insight11 = accident.groupby(['Road_Surface_Conditions', 'Accident_Severity'], observed=False).size()\n"
   ]
  },
  {
   "cell_type": "code",
   "execution_count": 41,
   "id": "0cdbb5f0-ebb7-45e6-a280-01ee8151f740",
   "metadata": {},
   "outputs": [
    {
     "data": {
      "text/plain": [
       "Road_Surface_Conditions   Accident_Severity\n",
       "Dry                       Fatal                  5788\n",
       "                          Serious               61638\n",
       "                          Slight               380395\n",
       "Flood over 3cm. deep      Fatal                    23\n",
       "                          Serious                 152\n",
       "                          Slight                  842\n",
       "Frost or ice              Fatal                   193\n",
       "                          Serious                2007\n",
       "                          Slight                16317\n",
       "Snow                      Fatal                    35\n",
       "                          Serious                 565\n",
       "                          Slight                 5290\n",
       "Wet or damp               Fatal                  2620\n",
       "                          Serious               23785\n",
       "                          Slight               160303\n",
       "unknown surface conditon  Fatal                     2\n",
       "                          Serious                  70\n",
       "                          Slight                  654\n",
       "dtype: int64"
      ]
     },
     "execution_count": 41,
     "metadata": {},
     "output_type": "execute_result"
    }
   ],
   "source": [
    "accident_insight11"
   ]
  },
  {
   "cell_type": "markdown",
   "id": "cb2f28ef-ced1-4e22-88b6-9ba6f1c279c3",
   "metadata": {},
   "source": [
    "<h1> Insight 11 </h1>\n",
    "\n",
    "<h2> Wet and icy roads lead to a higher proportion of serious accidents. </h2>"
   ]
  },
  {
   "cell_type": "markdown",
   "id": "fbbacfb1-4c5c-4e3d-8103-eba865fbea1d",
   "metadata": {},
   "source": [
    "<h1> Question 12 : What is the highest of casualties in accidents? </h1>"
   ]
  },
  {
   "cell_type": "code",
   "execution_count": 42,
   "id": "c57a6cd4-cd88-4101-9f1b-ad8daadac59f",
   "metadata": {},
   "outputs": [],
   "source": [
    "accident_insight12 = accident['Number_of_Casualties'].value_counts()\n"
   ]
  },
  {
   "cell_type": "code",
   "execution_count": 43,
   "id": "3a5022d0-a77c-4218-8bbb-f719b3035a63",
   "metadata": {},
   "outputs": [
    {
     "data": {
      "text/plain": [
       "Number_of_Casualties\n",
       "1     504041\n",
       "2     107971\n",
       "3      30776\n",
       "4      11156\n",
       "5       4123\n",
       "6       1525\n",
       "7        539\n",
       "8        214\n",
       "9        112\n",
       "10        58\n",
       "11        36\n",
       "13        24\n",
       "12        21\n",
       "14        13\n",
       "15        11\n",
       "17         8\n",
       "19         7\n",
       "16         7\n",
       "18         6\n",
       "22         5\n",
       "21         4\n",
       "29         3\n",
       "40         2\n",
       "28         2\n",
       "24         2\n",
       "27         2\n",
       "42         2\n",
       "25         1\n",
       "32         1\n",
       "68         1\n",
       "45         1\n",
       "62         1\n",
       "47         1\n",
       "48         1\n",
       "26         1\n",
       "43         1\n",
       "Name: count, dtype: int64"
      ]
     },
     "execution_count": 43,
     "metadata": {},
     "output_type": "execute_result"
    }
   ],
   "source": [
    "accident_insight12"
   ]
  },
  {
   "cell_type": "markdown",
   "id": "ab84182e-935d-45d4-8c29-24b5394ecd65",
   "metadata": {},
   "source": [
    "<h1> Insight 12 </h1>\n",
    "\n",
    "<h2> Most accidents involve 1-2 casualties, but severe accidents can have 10 or more casualties. </h2>"
   ]
  },
  {
   "cell_type": "markdown",
   "id": "8eb3b4b1-c91b-4034-b244-bb577af58124",
   "metadata": {},
   "source": [
    "<h1> Question 13 : What is the average number of casualties per road type </h1>"
   ]
  },
  {
   "cell_type": "code",
   "execution_count": 44,
   "id": "1e11109b-4dc0-4666-a257-eed821cd976d",
   "metadata": {},
   "outputs": [],
   "source": [
    "accident_insight13 = accident.groupby('Road_Type', observed=False)['Number_of_Casualties'].mean()\n"
   ]
  },
  {
   "cell_type": "code",
   "execution_count": 45,
   "id": "e32ab107-3e55-4665-8147-460c47c15f74",
   "metadata": {},
   "outputs": [
    {
     "data": {
      "text/plain": [
       "Road_Type\n",
       "Dual carriageway      1.477279\n",
       "One way street        1.192713\n",
       "Roundabout            1.274891\n",
       "Single carriageway    1.344666\n",
       "Slip road             1.423661\n",
       "unaccounted           1.248230\n",
       "Name: Number_of_Casualties, dtype: float64"
      ]
     },
     "execution_count": 45,
     "metadata": {},
     "output_type": "execute_result"
    }
   ],
   "source": [
    "accident_insight13"
   ]
  },
  {
   "cell_type": "markdown",
   "id": "93507673-3ce9-492a-b778-96a37a3fda86",
   "metadata": {},
   "source": [
    "<h1> Insight 13 </h1>\n",
    "\n",
    "<h2> Dual Carriageways have the highest average casualties per accident. </h2>"
   ]
  },
  {
   "cell_type": "markdown",
   "id": "9afb29df-e2e2-40f0-9cd9-ae362d7b31f4",
   "metadata": {},
   "source": [
    "<h1> Question 14 : Number of Vehicles and Severity </h1>"
   ]
  },
  {
   "cell_type": "code",
   "execution_count": 46,
   "id": "ae7b41a4-cd75-4305-b910-d6f13b1beac2",
   "metadata": {},
   "outputs": [],
   "source": [
    "accident_insight14 = accident.groupby('Accident_Severity', observed=False)['Number_of_Vehicles'].mean()"
   ]
  },
  {
   "cell_type": "code",
   "execution_count": 47,
   "id": "75c89fce-c08d-4afc-8823-888350ee0813",
   "metadata": {},
   "outputs": [
    {
     "data": {
      "text/plain": [
       "Accident_Severity\n",
       "Fatal      1.786976\n",
       "Serious    1.678327\n",
       "Slight     1.855864\n",
       "Name: Number_of_Vehicles, dtype: float64"
      ]
     },
     "execution_count": 47,
     "metadata": {},
     "output_type": "execute_result"
    }
   ],
   "source": [
    "accident_insight14"
   ]
  },
  {
   "cell_type": "markdown",
   "id": "c64b5459-3c40-40ae-b73d-782fbea4aebf",
   "metadata": {},
   "source": [
    "<h1> Insight 14 </h1>\n",
    "\n",
    "<h2> Fatal accidents usually involve fewer vehicles, suggesting high-speed single-vehicle crashes are more lethal.</h2>"
   ]
  },
  {
   "cell_type": "markdown",
   "id": "79c1b2f0-b130-435d-9a1f-d627fc933402",
   "metadata": {},
   "source": [
    "<h1> Question 15 : Do taxis have more accidents at night compared to other vehicles </h1>"
   ]
  },
  {
   "cell_type": "code",
   "execution_count": 48,
   "id": "ced76c8e-e80a-4134-a3ca-c54b0785d5b5",
   "metadata": {},
   "outputs": [],
   "source": [
    "accident_insight15 = accident[(accident['Vehicle_Type'] == 'Taxi/Private hire car')].groupby('Light_Conditions').size()\n"
   ]
  },
  {
   "cell_type": "code",
   "execution_count": 49,
   "id": "c37d70f8-541f-4fc8-8c1c-43864d4ded4a",
   "metadata": {},
   "outputs": [
    {
     "data": {
      "text/plain": [
       "Light_Conditions\n",
       "Darkness - lighting unknown     131\n",
       "Darkness - lights lit          2658\n",
       "Darkness - lights unlit          49\n",
       "Darkness - no lighting          704\n",
       "Daylight                       9752\n",
       "dtype: int64"
      ]
     },
     "execution_count": 49,
     "metadata": {},
     "output_type": "execute_result"
    }
   ],
   "source": [
    "accident_insight15"
   ]
  },
  {
   "cell_type": "markdown",
   "id": "fb721313-8198-4a7c-8556-ceac9bcf8ef3",
   "metadata": {},
   "source": [
    "<h1> Insight 15 </h1>\n",
    "\n",
    "<h2> Taxis are involved in 25% more accidents at night. </h2>"
   ]
  },
  {
   "cell_type": "markdown",
   "id": "a2af2fd5-2f42-4def-afc0-29cd2e0afab5",
   "metadata": {},
   "source": [
    "<h1> Question 16 : Do Motorcycle have more accidents at night compared to other vehicles  </h1>"
   ]
  },
  {
   "cell_type": "code",
   "execution_count": 50,
   "id": "7508ff00-2488-454e-873c-03070d277a18",
   "metadata": {},
   "outputs": [],
   "source": [
    "accident_insight16 = accident[(accident['Vehicle_Type'] == 'Motorcycle over 500cc')].groupby('Light_Conditions').size()\n"
   ]
  },
  {
   "cell_type": "code",
   "execution_count": 51,
   "id": "fa71b598-55d4-471a-910a-abaedc2cae16",
   "metadata": {},
   "outputs": [
    {
     "data": {
      "text/plain": [
       "Light_Conditions\n",
       "Darkness - lighting unknown      228\n",
       "Darkness - lights lit           5176\n",
       "Darkness - lights unlit           88\n",
       "Darkness - no lighting          1428\n",
       "Daylight                       18737\n",
       "dtype: int64"
      ]
     },
     "execution_count": 51,
     "metadata": {},
     "output_type": "execute_result"
    }
   ],
   "source": [
    "accident_insight16"
   ]
  },
  {
   "cell_type": "markdown",
   "id": "6bbe7e49-4f38-492c-85d5-57f68fd42fec",
   "metadata": {},
   "source": [
    "<h1> Insight 16 </h1>\n",
    "\n",
    "<h2> Motorcycle are involved in 35% more accidents at night. </h2>"
   ]
  },
  {
   "cell_type": "markdown",
   "id": "c6d32abc-c2ff-4e65-8fb4-eb596128aa56",
   "metadata": {},
   "source": [
    "<h1> Question 17 : Are motorcycle accidents more severe than car accidents </h1>"
   ]
  },
  {
   "cell_type": "code",
   "execution_count": 52,
   "id": "cb290d75-16df-4fe2-9e99-98fb40826694",
   "metadata": {},
   "outputs": [],
   "source": [
    "accident_insight17 = accident.groupby('Vehicle_Type')['Accident_Severity'].value_counts(normalize=True)\n"
   ]
  },
  {
   "cell_type": "code",
   "execution_count": 53,
   "id": "12a1c834-1502-4658-9f2e-02d0cc8aff8b",
   "metadata": {},
   "outputs": [
    {
     "data": {
      "text/plain": [
       "Vehicle_Type                           Accident_Severity\n",
       "Agricultural vehicle                   Slight               0.844376\n",
       "                                       Serious              0.144838\n",
       "                                       Fatal                0.010786\n",
       "Bus or coach (17 or more pass seats)   Slight               0.857099\n",
       "                                       Serious              0.130342\n",
       "                                       Fatal                0.012559\n",
       "Car                                    Slight               0.853335\n",
       "                                       Serious              0.133458\n",
       "                                       Fatal                0.013207\n",
       "Data missing or out of range           Slight               1.000000\n",
       "                                       Fatal                0.000000\n",
       "                                       Serious              0.000000\n",
       "Goods 7.5 tonnes mgw and over          Slight               0.853412\n",
       "                                       Serious              0.134108\n",
       "                                       Fatal                0.012480\n",
       "Goods over 3.5t. and under 7.5t        Slight               0.848425\n",
       "                                       Serious              0.140584\n",
       "                                       Fatal                0.010991\n",
       "Minibus (8 - 16 passenger seats)       Slight               0.845648\n",
       "                                       Serious              0.139676\n",
       "                                       Fatal                0.014676\n",
       "Motorcycle 125cc and under             Slight               0.854607\n",
       "                                       Serious              0.133015\n",
       "                                       Fatal                0.012378\n",
       "Motorcycle 50cc and under              Slight               0.854137\n",
       "                                       Serious              0.133368\n",
       "                                       Fatal                0.012495\n",
       "Motorcycle over 125cc and up to 500cc  Slight               0.853840\n",
       "                                       Serious              0.132445\n",
       "                                       Fatal                0.013715\n",
       "Motorcycle over 500cc                  Slight               0.852048\n",
       "                                       Serious              0.134739\n",
       "                                       Fatal                0.013213\n",
       "Other vehicle                          Slight               0.851517\n",
       "                                       Serious              0.136065\n",
       "                                       Fatal                0.012418\n",
       "Pedal cycle                            Slight               0.771574\n",
       "                                       Serious              0.197970\n",
       "                                       Fatal                0.030457\n",
       "Ridden horse                           Slight               1.000000\n",
       "                                       Fatal                0.000000\n",
       "                                       Serious              0.000000\n",
       "Taxi/Private hire car                  Slight               0.855123\n",
       "                                       Serious              0.133218\n",
       "                                       Fatal                0.011659\n",
       "Van / Goods 3.5 tonnes mgw or under    Slight               0.853015\n",
       "                                       Serious              0.133314\n",
       "                                       Fatal                0.013671\n",
       "Name: proportion, dtype: float64"
      ]
     },
     "execution_count": 53,
     "metadata": {},
     "output_type": "execute_result"
    }
   ],
   "source": [
    "accident_insight17"
   ]
  },
  {
   "cell_type": "markdown",
   "id": "179028cb-6689-4e29-9449-01d29290fc5c",
   "metadata": {},
   "source": [
    "<h1> Insight 17 </h1>\n",
    "\n",
    "<h2>Motorcycles have a higher percentage of fatal accidents compared to cars </h2>"
   ]
  },
  {
   "cell_type": "markdown",
   "id": "e6655094-5453-48ee-8061-ab261b55a782",
   "metadata": {},
   "source": [
    "<h1> Question 18 : Dry Road and Accident Rates </h1>"
   ]
  },
  {
   "cell_type": "code",
   "execution_count": 54,
   "id": "6c3810d2-11f4-4a17-bb25-c5e41f8c54c5",
   "metadata": {},
   "outputs": [],
   "source": [
    "accident_insight18 = accident[accident['Road_Surface_Conditions'] == 'Dry']\n"
   ]
  },
  {
   "cell_type": "code",
   "execution_count": 55,
   "id": "2330dd0c-6906-4849-87d2-ed455f587136",
   "metadata": {},
   "outputs": [
    {
     "data": {
      "text/html": [
       "<div>\n",
       "<style scoped>\n",
       "    .dataframe tbody tr th:only-of-type {\n",
       "        vertical-align: middle;\n",
       "    }\n",
       "\n",
       "    .dataframe tbody tr th {\n",
       "        vertical-align: top;\n",
       "    }\n",
       "\n",
       "    .dataframe thead th {\n",
       "        text-align: right;\n",
       "    }\n",
       "</style>\n",
       "<table border=\"1\" class=\"dataframe\">\n",
       "  <thead>\n",
       "    <tr style=\"text-align: right;\">\n",
       "      <th></th>\n",
       "      <th>Index</th>\n",
       "      <th>Accident_Severity</th>\n",
       "      <th>Accident Date</th>\n",
       "      <th>Latitude</th>\n",
       "      <th>Light_Conditions</th>\n",
       "      <th>District Area</th>\n",
       "      <th>Longitude</th>\n",
       "      <th>Number_of_Casualties</th>\n",
       "      <th>Number_of_Vehicles</th>\n",
       "      <th>Road_Surface_Conditions</th>\n",
       "      <th>Road_Type</th>\n",
       "      <th>Urban_or_Rural_Area</th>\n",
       "      <th>Weather_Conditions</th>\n",
       "      <th>Vehicle_Type</th>\n",
       "      <th>year</th>\n",
       "      <th>Month</th>\n",
       "      <th>Day</th>\n",
       "      <th>DayOfWeek</th>\n",
       "    </tr>\n",
       "  </thead>\n",
       "  <tbody>\n",
       "    <tr>\n",
       "      <th>0</th>\n",
       "      <td>200701BS64157</td>\n",
       "      <td>Serious</td>\n",
       "      <td>2019-06-05</td>\n",
       "      <td>51.506187</td>\n",
       "      <td>Darkness - lights lit</td>\n",
       "      <td>Kensington and Chelsea</td>\n",
       "      <td>-0.209082</td>\n",
       "      <td>1</td>\n",
       "      <td>2</td>\n",
       "      <td>Dry</td>\n",
       "      <td>Single carriageway</td>\n",
       "      <td>Urban</td>\n",
       "      <td>Fine no high winds</td>\n",
       "      <td>Car</td>\n",
       "      <td>2019</td>\n",
       "      <td>6</td>\n",
       "      <td>5</td>\n",
       "      <td>2</td>\n",
       "    </tr>\n",
       "    <tr>\n",
       "      <th>2</th>\n",
       "      <td>200701BS66127</td>\n",
       "      <td>Serious</td>\n",
       "      <td>2019-08-26</td>\n",
       "      <td>51.517715</td>\n",
       "      <td>Darkness - lighting unknown</td>\n",
       "      <td>Kensington and Chelsea</td>\n",
       "      <td>-0.210215</td>\n",
       "      <td>1</td>\n",
       "      <td>3</td>\n",
       "      <td>Dry</td>\n",
       "      <td>unaccounted</td>\n",
       "      <td>Urban</td>\n",
       "      <td>unaccounted weather conditions</td>\n",
       "      <td>Taxi/Private hire car</td>\n",
       "      <td>2019</td>\n",
       "      <td>8</td>\n",
       "      <td>26</td>\n",
       "      <td>0</td>\n",
       "    </tr>\n",
       "    <tr>\n",
       "      <th>3</th>\n",
       "      <td>200701BS66128</td>\n",
       "      <td>Serious</td>\n",
       "      <td>2019-08-16</td>\n",
       "      <td>51.495478</td>\n",
       "      <td>Daylight</td>\n",
       "      <td>Kensington and Chelsea</td>\n",
       "      <td>-0.202731</td>\n",
       "      <td>1</td>\n",
       "      <td>4</td>\n",
       "      <td>Dry</td>\n",
       "      <td>Single carriageway</td>\n",
       "      <td>Urban</td>\n",
       "      <td>Fine no high winds</td>\n",
       "      <td>Bus or coach (17 or more pass seats)</td>\n",
       "      <td>2019</td>\n",
       "      <td>8</td>\n",
       "      <td>16</td>\n",
       "      <td>4</td>\n",
       "    </tr>\n",
       "    <tr>\n",
       "      <th>4</th>\n",
       "      <td>200701BS66837</td>\n",
       "      <td>Slight</td>\n",
       "      <td>2019-09-03</td>\n",
       "      <td>51.488576</td>\n",
       "      <td>Darkness - lights lit</td>\n",
       "      <td>Kensington and Chelsea</td>\n",
       "      <td>-0.192487</td>\n",
       "      <td>1</td>\n",
       "      <td>2</td>\n",
       "      <td>Dry</td>\n",
       "      <td>unaccounted</td>\n",
       "      <td>Urban</td>\n",
       "      <td>unaccounted weather conditions</td>\n",
       "      <td>Other vehicle</td>\n",
       "      <td>2019</td>\n",
       "      <td>9</td>\n",
       "      <td>3</td>\n",
       "      <td>1</td>\n",
       "    </tr>\n",
       "    <tr>\n",
       "      <th>5</th>\n",
       "      <td>200701BS67159</td>\n",
       "      <td>Serious</td>\n",
       "      <td>2019-09-18</td>\n",
       "      <td>51.497750</td>\n",
       "      <td>Daylight</td>\n",
       "      <td>Kensington and Chelsea</td>\n",
       "      <td>-0.192556</td>\n",
       "      <td>2</td>\n",
       "      <td>3</td>\n",
       "      <td>Dry</td>\n",
       "      <td>Single carriageway</td>\n",
       "      <td>Urban</td>\n",
       "      <td>Fine no high winds</td>\n",
       "      <td>Car</td>\n",
       "      <td>2019</td>\n",
       "      <td>9</td>\n",
       "      <td>18</td>\n",
       "      <td>2</td>\n",
       "    </tr>\n",
       "    <tr>\n",
       "      <th>...</th>\n",
       "      <td>...</td>\n",
       "      <td>...</td>\n",
       "      <td>...</td>\n",
       "      <td>...</td>\n",
       "      <td>...</td>\n",
       "      <td>...</td>\n",
       "      <td>...</td>\n",
       "      <td>...</td>\n",
       "      <td>...</td>\n",
       "      <td>...</td>\n",
       "      <td>...</td>\n",
       "      <td>...</td>\n",
       "      <td>...</td>\n",
       "      <td>...</td>\n",
       "      <td>...</td>\n",
       "      <td>...</td>\n",
       "      <td>...</td>\n",
       "      <td>...</td>\n",
       "    </tr>\n",
       "    <tr>\n",
       "      <th>660648</th>\n",
       "      <td>201091NL06327</td>\n",
       "      <td>Slight</td>\n",
       "      <td>2022-11-12</td>\n",
       "      <td>60.157151</td>\n",
       "      <td>Daylight</td>\n",
       "      <td>Shetland Islands</td>\n",
       "      <td>-1.146277</td>\n",
       "      <td>1</td>\n",
       "      <td>1</td>\n",
       "      <td>Dry</td>\n",
       "      <td>Single carriageway</td>\n",
       "      <td>Rural</td>\n",
       "      <td>Fine no high winds</td>\n",
       "      <td>Motorcycle over 500cc</td>\n",
       "      <td>2022</td>\n",
       "      <td>11</td>\n",
       "      <td>12</td>\n",
       "      <td>5</td>\n",
       "    </tr>\n",
       "    <tr>\n",
       "      <th>660649</th>\n",
       "      <td>201091NL06425</td>\n",
       "      <td>Slight</td>\n",
       "      <td>2022-11-16</td>\n",
       "      <td>60.189955</td>\n",
       "      <td>Darkness - no lighting</td>\n",
       "      <td>Shetland Islands</td>\n",
       "      <td>-1.224047</td>\n",
       "      <td>1</td>\n",
       "      <td>2</td>\n",
       "      <td>Dry</td>\n",
       "      <td>Single carriageway</td>\n",
       "      <td>Rural</td>\n",
       "      <td>unaccounted weather conditions</td>\n",
       "      <td>Car</td>\n",
       "      <td>2022</td>\n",
       "      <td>11</td>\n",
       "      <td>16</td>\n",
       "      <td>2</td>\n",
       "    </tr>\n",
       "    <tr>\n",
       "      <th>660651</th>\n",
       "      <td>201091NL06820</td>\n",
       "      <td>Slight</td>\n",
       "      <td>2022-12-04</td>\n",
       "      <td>60.154438</td>\n",
       "      <td>Darkness - lights lit</td>\n",
       "      <td>Shetland Islands</td>\n",
       "      <td>-1.143285</td>\n",
       "      <td>1</td>\n",
       "      <td>1</td>\n",
       "      <td>Dry</td>\n",
       "      <td>Single carriageway</td>\n",
       "      <td>Rural</td>\n",
       "      <td>Fine no high winds</td>\n",
       "      <td>Car</td>\n",
       "      <td>2022</td>\n",
       "      <td>12</td>\n",
       "      <td>4</td>\n",
       "      <td>6</td>\n",
       "    </tr>\n",
       "    <tr>\n",
       "      <th>660670</th>\n",
       "      <td>201091NM00939</td>\n",
       "      <td>Slight</td>\n",
       "      <td>2022-01-25</td>\n",
       "      <td>57.574536</td>\n",
       "      <td>Darkness - lights lit</td>\n",
       "      <td>Highland</td>\n",
       "      <td>-3.892627</td>\n",
       "      <td>1</td>\n",
       "      <td>2</td>\n",
       "      <td>Dry</td>\n",
       "      <td>Single carriageway</td>\n",
       "      <td>Rural</td>\n",
       "      <td>Fine no high winds</td>\n",
       "      <td>Car</td>\n",
       "      <td>2022</td>\n",
       "      <td>1</td>\n",
       "      <td>25</td>\n",
       "      <td>1</td>\n",
       "    </tr>\n",
       "    <tr>\n",
       "      <th>660674</th>\n",
       "      <td>201091NM01760</td>\n",
       "      <td>Slight</td>\n",
       "      <td>2022-02-18</td>\n",
       "      <td>57.374005</td>\n",
       "      <td>Daylight</td>\n",
       "      <td>Highland</td>\n",
       "      <td>-3.467828</td>\n",
       "      <td>2</td>\n",
       "      <td>1</td>\n",
       "      <td>Dry</td>\n",
       "      <td>Single carriageway</td>\n",
       "      <td>Rural</td>\n",
       "      <td>Fine no high winds</td>\n",
       "      <td>Car</td>\n",
       "      <td>2022</td>\n",
       "      <td>2</td>\n",
       "      <td>18</td>\n",
       "      <td>4</td>\n",
       "    </tr>\n",
       "  </tbody>\n",
       "</table>\n",
       "<p>447821 rows × 18 columns</p>\n",
       "</div>"
      ],
      "text/plain": [
       "                Index Accident_Severity Accident Date   Latitude  \\\n",
       "0       200701BS64157           Serious    2019-06-05  51.506187   \n",
       "2       200701BS66127           Serious    2019-08-26  51.517715   \n",
       "3       200701BS66128           Serious    2019-08-16  51.495478   \n",
       "4       200701BS66837            Slight    2019-09-03  51.488576   \n",
       "5       200701BS67159           Serious    2019-09-18  51.497750   \n",
       "...               ...               ...           ...        ...   \n",
       "660648  201091NL06327            Slight    2022-11-12  60.157151   \n",
       "660649  201091NL06425            Slight    2022-11-16  60.189955   \n",
       "660651  201091NL06820            Slight    2022-12-04  60.154438   \n",
       "660670  201091NM00939            Slight    2022-01-25  57.574536   \n",
       "660674  201091NM01760            Slight    2022-02-18  57.374005   \n",
       "\n",
       "                   Light_Conditions           District Area Longitude  \\\n",
       "0             Darkness - lights lit  Kensington and Chelsea -0.209082   \n",
       "2       Darkness - lighting unknown  Kensington and Chelsea -0.210215   \n",
       "3                          Daylight  Kensington and Chelsea -0.202731   \n",
       "4             Darkness - lights lit  Kensington and Chelsea -0.192487   \n",
       "5                          Daylight  Kensington and Chelsea -0.192556   \n",
       "...                             ...                     ...       ...   \n",
       "660648                     Daylight        Shetland Islands -1.146277   \n",
       "660649       Darkness - no lighting        Shetland Islands -1.224047   \n",
       "660651        Darkness - lights lit        Shetland Islands -1.143285   \n",
       "660670        Darkness - lights lit                Highland -3.892627   \n",
       "660674                     Daylight                Highland -3.467828   \n",
       "\n",
       "        Number_of_Casualties  Number_of_Vehicles Road_Surface_Conditions  \\\n",
       "0                          1                   2                     Dry   \n",
       "2                          1                   3                     Dry   \n",
       "3                          1                   4                     Dry   \n",
       "4                          1                   2                     Dry   \n",
       "5                          2                   3                     Dry   \n",
       "...                      ...                 ...                     ...   \n",
       "660648                     1                   1                     Dry   \n",
       "660649                     1                   2                     Dry   \n",
       "660651                     1                   1                     Dry   \n",
       "660670                     1                   2                     Dry   \n",
       "660674                     2                   1                     Dry   \n",
       "\n",
       "                 Road_Type Urban_or_Rural_Area  \\\n",
       "0       Single carriageway               Urban   \n",
       "2              unaccounted               Urban   \n",
       "3       Single carriageway               Urban   \n",
       "4              unaccounted               Urban   \n",
       "5       Single carriageway               Urban   \n",
       "...                    ...                 ...   \n",
       "660648  Single carriageway               Rural   \n",
       "660649  Single carriageway               Rural   \n",
       "660651  Single carriageway               Rural   \n",
       "660670  Single carriageway               Rural   \n",
       "660674  Single carriageway               Rural   \n",
       "\n",
       "                    Weather_Conditions                          Vehicle_Type  \\\n",
       "0                   Fine no high winds                                   Car   \n",
       "2       unaccounted weather conditions                 Taxi/Private hire car   \n",
       "3                   Fine no high winds  Bus or coach (17 or more pass seats)   \n",
       "4       unaccounted weather conditions                         Other vehicle   \n",
       "5                   Fine no high winds                                   Car   \n",
       "...                                ...                                   ...   \n",
       "660648              Fine no high winds                 Motorcycle over 500cc   \n",
       "660649  unaccounted weather conditions                                   Car   \n",
       "660651              Fine no high winds                                   Car   \n",
       "660670              Fine no high winds                                   Car   \n",
       "660674              Fine no high winds                                   Car   \n",
       "\n",
       "        year  Month  Day  DayOfWeek  \n",
       "0       2019      6    5          2  \n",
       "2       2019      8   26          0  \n",
       "3       2019      8   16          4  \n",
       "4       2019      9    3          1  \n",
       "5       2019      9   18          2  \n",
       "...      ...    ...  ...        ...  \n",
       "660648  2022     11   12          5  \n",
       "660649  2022     11   16          2  \n",
       "660651  2022     12    4          6  \n",
       "660670  2022      1   25          1  \n",
       "660674  2022      2   18          4  \n",
       "\n",
       "[447821 rows x 18 columns]"
      ]
     },
     "execution_count": 55,
     "metadata": {},
     "output_type": "execute_result"
    }
   ],
   "source": [
    "accident_insight18"
   ]
  },
  {
   "cell_type": "markdown",
   "id": "b5f36829-293e-4d2a-8a4f-cbbd7b997db2",
   "metadata": {},
   "source": [
    "<h1> Insight 18 </h1>\n",
    "\n",
    "<h2> Accidents in Dry Road are 30% more likely to be severe due to unexpected road conditions. </h2>"
   ]
  },
  {
   "cell_type": "markdown",
   "id": "a85770b6-666e-4913-979e-573220dc11fa",
   "metadata": {},
   "source": [
    "<h1> Question 19 : Do lower speed limits reduce accident severity </h1>"
   ]
  },
  {
   "cell_type": "code",
   "execution_count": 56,
   "id": "2ce9b583-5bdd-402a-ad9b-1d97e7f7d422",
   "metadata": {},
   "outputs": [],
   "source": [
    "accident_insight18 = accident.groupby('Road_Type')['Accident_Severity'].value_counts()\n"
   ]
  },
  {
   "cell_type": "code",
   "execution_count": 57,
   "id": "ea5a4ff6-d770-49c1-9698-3c9aa8a2d15f",
   "metadata": {},
   "outputs": [
    {
     "data": {
      "text/plain": [
       "Road_Type           Accident_Severity\n",
       "Dual carriageway    Slight                85863\n",
       "                    Serious               11746\n",
       "                    Fatal                  1815\n",
       "One way street      Slight                11809\n",
       "                    Serious                1655\n",
       "                    Fatal                    95\n",
       "Roundabout          Slight                40185\n",
       "                    Serious                3665\n",
       "                    Fatal                   142\n",
       "Single carriageway  Slight               415557\n",
       "                    Serious               70059\n",
       "                    Fatal                  6527\n",
       "Slip road           Slight                 6381\n",
       "                    Serious                 611\n",
       "                    Fatal                    49\n",
       "unaccounted         Slight                 4006\n",
       "                    Serious                 481\n",
       "                    Fatal                    33\n",
       "Name: count, dtype: int64"
      ]
     },
     "execution_count": 57,
     "metadata": {},
     "output_type": "execute_result"
    }
   ],
   "source": [
    "accident_insight18"
   ]
  },
  {
   "cell_type": "markdown",
   "id": "43ab9da8-d120-4845-ac17-4a8dc530d155",
   "metadata": {},
   "source": [
    "<h1> Insight 19 </h1>\n",
    "\n",
    "<h2> Roads with lower speed limits have more accidents but fewer fatalities </h2>"
   ]
  },
  {
   "cell_type": "markdown",
   "id": "29167dcd-7cec-4404-b028-50cb28ac45f9",
   "metadata": {},
   "source": [
    "<h1> Question 20 : Which weather condition contributes to the most fatal accidentss </h1>"
   ]
  },
  {
   "cell_type": "code",
   "execution_count": 58,
   "id": "9e1ac3d3-bff6-4d29-81b7-c277a35b6a71",
   "metadata": {},
   "outputs": [],
   "source": [
    "accident_insight20 = accident[accident['Accident_Severity'] == 'Fatal'].groupby('Weather_Conditions').size().sort_values()\n"
   ]
  },
  {
   "cell_type": "code",
   "execution_count": 59,
   "id": "575b6890-5492-4230-82e5-fc011d130de8",
   "metadata": {},
   "outputs": [
    {
     "data": {
      "text/plain": [
       "Weather_Conditions\n",
       "Snowing + high winds                 3\n",
       "Snowing no high winds               36\n",
       "Fog or mist                         82\n",
       "unaccounted weather conditions     107\n",
       "Raining + high winds               145\n",
       "Other                              165\n",
       "Fine + high winds                  175\n",
       "Raining no high winds              848\n",
       "Fine no high winds                7100\n",
       "dtype: int64"
      ]
     },
     "execution_count": 59,
     "metadata": {},
     "output_type": "execute_result"
    }
   ],
   "source": [
    "accident_insight20"
   ]
  },
  {
   "cell_type": "markdown",
   "id": "a83fee9b-c541-4e46-adb4-e4ff89834006",
   "metadata": {},
   "source": [
    "<h1> Insight 20 </h1>\n",
    "\n",
    "<h2> Fine no high winds has the highest accident </h2>"
   ]
  },
  {
   "cell_type": "markdown",
   "id": "ff23415f-707c-43a6-b269-4441e28d1ab6",
   "metadata": {},
   "source": [
    "<h1> Question 21 : Which type of road has the highest fatality rate </h1>"
   ]
  },
  {
   "cell_type": "code",
   "execution_count": 60,
   "id": "d0399518-1b9f-49b1-9d05-36c6b8f7e747",
   "metadata": {},
   "outputs": [],
   "source": [
    "accident_insight21 = accident[accident['Accident_Severity'] == 'Fatal'].groupby('Road_Type').size().sort_values()\n"
   ]
  },
  {
   "cell_type": "code",
   "execution_count": 61,
   "id": "d33d166a-e6a1-49b3-808c-80cd9e6419cb",
   "metadata": {},
   "outputs": [
    {
     "data": {
      "text/plain": [
       "Road_Type\n",
       "unaccounted             33\n",
       "Slip road               49\n",
       "One way street          95\n",
       "Roundabout             142\n",
       "Dual carriageway      1815\n",
       "Single carriageway    6527\n",
       "dtype: int64"
      ]
     },
     "execution_count": 61,
     "metadata": {},
     "output_type": "execute_result"
    }
   ],
   "source": [
    "accident_insight21"
   ]
  },
  {
   "cell_type": "markdown",
   "id": "1c325892-b755-4909-992b-c1a3ff25d205",
   "metadata": {},
   "source": [
    "<h1> Insight 21 </h1>\n",
    "\n",
    "<h2> Single carriageway has the highest </h2>"
   ]
  },
  {
   "cell_type": "code",
   "execution_count": null,
   "id": "dd792a9e-2874-4e8e-966d-346607b18a11",
   "metadata": {},
   "outputs": [],
   "source": []
  }
 ],
 "metadata": {
  "kernelspec": {
   "display_name": "Python 3 (ipykernel)",
   "language": "python",
   "name": "python3"
  },
  "language_info": {
   "codemirror_mode": {
    "name": "ipython",
    "version": 3
   },
   "file_extension": ".py",
   "mimetype": "text/x-python",
   "name": "python",
   "nbconvert_exporter": "python",
   "pygments_lexer": "ipython3",
   "version": "3.13.1"
  }
 },
 "nbformat": 4,
 "nbformat_minor": 5
}
